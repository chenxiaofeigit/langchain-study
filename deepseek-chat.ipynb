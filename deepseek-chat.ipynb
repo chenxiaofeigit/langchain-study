{
 "cells": [
  {
   "cell_type": "code",
   "execution_count": 1,
   "id": "df7a48d9-39d7-4da9-a3a0-c15308945202",
   "metadata": {},
   "outputs": [
    {
     "name": "stdout",
     "output_type": "stream",
     "text": [
      "content='为复古风格的花店起名，可以结合怀旧元素、自然意象和浪漫词汇，营造出优雅、经典或略带时光沉淀感的氛围。以下是一些灵感建议：\\n\\n---\\n\\n### **1. 经典复古风**\\n- **时光花园（Time & Blossoms）**  \\n- **旧日玫瑰（Vintage Roses）**  \\n- **赫本花房（Hepburn’s Florals）**（致敬奥黛丽·赫本的优雅）  \\n- **鎏金花事（Gilded Petals）**  \\n- **拾光花坊（Memory Lane Florist）**  \\n\\n---\\n\\n### **2. 自然怀旧风**\\n- **野蔷薇日记（Wild Rose Diary）**  \\n- **风信子与旧书（Hyacinth & Old Books）**  \\n- **橡木花园（Oak & Blossom）**  \\n- **雾中鸢尾（Misty Iris）**  \\n- **蒲公英时钟（Dandelion Clock）**（象征时光流逝的浪漫）  \\n\\n---\\n\\n### **3. 欧式复古风**\\n- **洛可可花园（Rococo Flowers）**  \\n- **凡尔赛午后（Versailles Afternoon）**  \\n- **维多利亚温室（Victoria’s Greenhouse）**  \\n- **巴黎街角花店（Fleur de Paris）**  \\n- **古董花匣（Antique Flower Box）**  \\n\\n---\\n\\n### **4. 文艺电影/书籍灵感**\\n- **傲慢与花房（Pride & Petals）**（《傲慢与偏见》改编）  \\n- **小王子与玫瑰（Le Petit Fleuriste）**  \\n- **午夜花园（Midnight in the Garden）**  \\n- **爱丽丝的花境（Alice’s Blooming Wonderland）**  \\n\\n---\\n\\n### **5. 中文诗意复古**\\n- **花间旧事**  \\n- **故园芳菲**  \\n- **拾花纪**  \\n- **浮生花语**  \\n- **尘香记**  \\n\\n---\\n\\n### **6. 轻复古/混搭风**\\n- **老唱片与郁金香（Vinyl & Tulips）**  \\n- **祖母的玻璃花房（Granny’s Glasshouse）**  \\n- **打字机与向日葵（Typewriter & Sunflowers）**  \\n- **邮差的花（The Postman’s Flowers）**（灵感来自《邮差》电影）  \\n\\n---\\n\\n**小技巧**：  \\n- 加入 **“Vintage、Antique、Old、Memory”** 等英文词，或 **“旧、时、纪、坊”** 等中文词强化复古感。  \\n- 结合 **花卉名（如玫瑰、鸢尾、郁金香）** 或 **复古物件（钟表、书信、钢琴）** 增加画面感。  \\n\\n希望这些名字能激发你的灵感！如果需要更个性化的推荐，可以告诉我你偏爱的具体风格（如英伦、法式、中式等）或关键词~' additional_kwargs={'refusal': None} response_metadata={'token_usage': {'completion_tokens': 629, 'prompt_tokens': 10, 'total_tokens': 639, 'completion_tokens_details': None, 'prompt_tokens_details': {'audio_tokens': None, 'cached_tokens': 0}, 'prompt_cache_hit_tokens': 0, 'prompt_cache_miss_tokens': 10}, 'model_name': 'deepseek-chat', 'system_fingerprint': 'fp_8802369eaa_prod0623_fp8_kvcache', 'id': 'c736f048-9a1f-4060-bc59-efca786fe301', 'service_tier': None, 'finish_reason': 'stop', 'logprobs': None} id='run--8eb3215a-1f00-4c92-bb06-e67721223102-0' usage_metadata={'input_tokens': 10, 'output_tokens': 629, 'total_tokens': 639, 'input_token_details': {'cache_read': 0}, 'output_token_details': {}}\n"
     ]
    }
   ],
   "source": [
    "import os\n",
    "from langchain_openai import ChatOpenAI  \n",
    "from langchain_core.prompts import ChatPromptTemplate\n",
    "\n",
    "# 从环境变量获取 DeepSeek API Key\n",
    "api_key = os.getenv(\"DEEPSEEK_API_KEY\")\n",
    "if not api_key:\n",
    "    raise ValueError(\"请设置 DEEPSEEK_API_KEY 环境变量\")\n",
    "\n",
    "\n",
    "# 假设 DeepSeek 的 API 兼容 OpenAI\n",
    "chat = ChatOpenAI(\n",
    "    openai_api_key=api_key,\n",
    "    openai_api_base=\"https://api.deepseek.com/v1\",  # DeepSeek 的 API 地址\n",
    "    model_name=\"deepseek-chat\",\n",
    "    temperature=0.8\n",
    ")\n",
    "\n",
    "# 调用示例\n",
    "prompt = ChatPromptTemplate.from_messages([(\"human\", \"为{style}风格的花店起名\")])\n",
    "chain = prompt | chat\n",
    "response = chain.invoke({\"style\": \"复古\"})\n",
    "print(response)\n"
   ]
  },
  {
   "cell_type": "code",
   "execution_count": 3,
   "id": "dae9ef92-8e2e-453e-9ae4-f117926f19bd",
   "metadata": {},
   "outputs": [
    {
     "name": "stdout",
     "output_type": "stream",
     "text": [
      "为复古风格的花店起名，可以结合怀旧元素、经典花卉、浪漫词汇或时代感词语，营造优雅、浪漫或文艺的氛围。以下是一些灵感建议：\n",
      "\n",
      "---\n",
      "\n",
      "### **1. 经典复古风**\n",
      "- **时光花坊**  \n",
      "- **旧日玫瑰**  \n",
      "- **维多利亚花园**  \n",
      "- **古董蔷薇**  \n",
      "- **鎏金花事**  \n",
      "\n",
      "### **2. 文艺怀旧风**\n",
      "- **泛黄诗集与花**  \n",
      "- **邮差的花匣子**（灵感来自老信件）  \n",
      "- **拾光花廊**  \n",
      "- **阁楼上的鸢尾**  \n",
      "- **昨日盛开**  \n",
      "\n",
      "### **3. 浪漫欧式风**\n",
      "- **洛可可花园**  \n",
      "- **香榭丽舍花房**  \n",
      "- **仲夏夜之梦**（莎士比亚元素）  \n",
      "- **玫瑰修道院**  \n",
      "- **凡尔赛午后**  \n",
      "\n",
      "### **4. 自然复古风**\n",
      "- **野葵与旧时光**  \n",
      "- **橡木花园**  \n",
      "- **风信子胡同**  \n",
      "- **苔藓日记**  \n",
      "- **锈色花园**（锈色象征复古金属质感）  \n",
      "\n",
      "### **5. 电影/书籍灵感**\n",
      "- **傲慢与蔷薇**（《傲慢与偏见》改编）  \n",
      "- **花样年华花店**  \n",
      "- **小王子与玫瑰**  \n",
      "- **布达佩斯花房**（致敬《布达佩斯大饭店》）  \n",
      "- **爱丽丝秘境**  \n",
      "\n",
      "### **6. 轻复古创意**\n",
      "- **花时慢**（谐音“时光慢”）  \n",
      "- **旧报纸与郁金香**  \n",
      "- **褪色花园**  \n",
      "- **老唱片玫瑰**  \n",
      "- **祖母绿花园**  \n",
      "\n",
      "---\n",
      "\n",
      "**命名小技巧**：  \n",
      "- 加入 **“vintage”“antique”“old”“复古”** 等英文词（如“Vintage Blossom”）。  \n",
      "- 用 **年代或地名**（如“1920花房”“巴黎旧梦”）。  \n",
      "- 结合 **老物件**（打字机、留声机、黄铜、蕾丝等）。  \n",
      "\n",
      "希望这些名字能激发灵感！如果需要更个性化的推荐，可以告诉我你偏好的具体风格（如法式、英伦、中式复古等）或关键词～ 🌸\n"
     ]
    }
   ],
   "source": [
    "print(response.content)"
   ]
  },
  {
   "cell_type": "code",
   "execution_count": null,
   "id": "9e5c28d5-5887-4752-b52a-76cf3f55c799",
   "metadata": {},
   "outputs": [],
   "source": []
  }
 ],
 "metadata": {
  "kernelspec": {
   "display_name": "Python 3 (ipykernel)",
   "language": "python",
   "name": "python3"
  },
  "language_info": {
   "codemirror_mode": {
    "name": "ipython",
    "version": 3
   },
   "file_extension": ".py",
   "mimetype": "text/x-python",
   "name": "python",
   "nbconvert_exporter": "python",
   "pygments_lexer": "ipython3",
   "version": "3.13.5"
  }
 },
 "nbformat": 4,
 "nbformat_minor": 5
}
