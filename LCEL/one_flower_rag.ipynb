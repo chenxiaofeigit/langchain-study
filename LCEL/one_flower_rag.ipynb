{
 "cells": [
  {
   "cell_type": "code",
   "execution_count": 2,
   "id": "04ca8df4-b0a1-4fe6-b775-ca924f705a31",
   "metadata": {},
   "outputs": [],
   "source": [
    "import os\n",
    "from langchain_community.document_loaders import DirectoryLoader\n",
    "from langchain_text_splitters import RecursiveCharacterTextSplitter\n",
    "from langchain_community.vectorstores import Chroma\n",
    "from langchain_openai import OpenAIEmbeddings\n",
    "from langchain_openai import ChatOpenAI\n",
    "from langchain_core.prompts import ChatPromptTemplate\n",
    "from langchain_core.runnables import RunnablePassthrough\n",
    "from langchain.document_loaders import PyPDFLoader\n",
    "from langchain.document_loaders import Docx2txtLoader\n",
    "from langchain.document_loaders import TextLoader\n",
    "\n",
    "# 从环境变量获取 DeepSeek API Key\n",
    "api_key = os.getenv(\"DEEPSEEK_API_KEY\")\n",
    "if not api_key:\n",
    "    raise ValueError(\"请设置 DEEPSEEK_API_KEY 环境变量\")\n",
    "\n",
    "\n",
    "\n",
    "\n",
    "    \n"
   ]
  },
  {
   "cell_type": "code",
   "execution_count": 3,
   "id": "ff48db05-be00-4c3f-a29d-71ed3314b5fd",
   "metadata": {},
   "outputs": [],
   "source": [
    "# 1.Load 导入Document Loaders\n",
    "def load_documents():\n",
    "    base_dir = './OneFlower' \n",
    "    documents = []\n",
    "    for file in os.listdir(base_dir): \n",
    "        # 构建完整的文件路径    \n",
    "        file_path = os.path.join(base_dir, file)    \n",
    "        if file.endswith('.pdf'):        \n",
    "            loader = PyPDFLoader(file_path)        \n",
    "            documents.extend(loader.load())    \n",
    "        elif file.endswith('.docx'):         \n",
    "            loader = Docx2txtLoader(file_path)        \n",
    "            documents.extend(loader.load())    \n",
    "        elif file.endswith('.txt'):       \n",
    "            loader = TextLoader(file_path)      \n",
    "            documents.extend(loader.load())\n",
    "    return documents"
   ]
  },
  {
   "cell_type": "code",
   "execution_count": 4,
   "id": "e3213aa3-1105-41e9-a734-5f23445493db",
   "metadata": {},
   "outputs": [],
   "source": [
    "documents=load_documents()"
   ]
  },
  {
   "cell_type": "code",
   "execution_count": 5,
   "id": "417c4871-cc02-4e1b-b33a-c6936ccebde7",
   "metadata": {},
   "outputs": [],
   "source": [
    "# Step 2: Splitting - 分割文本\n",
    "def split_documents(docs):\n",
    "    splitter = RecursiveCharacterTextSplitter(\n",
    "        chunk_size=200,  # 每个块的大小（字符）\n",
    "        chunk_overlap=10,  # 块之间的重叠部分\n",
    "        length_function=len\n",
    "    )\n",
    "    return splitter.split_documents(docs)"
   ]
  },
  {
   "cell_type": "code",
   "execution_count": 6,
   "id": "7f4ada76-049f-44cc-99fe-265c3922c2ac",
   "metadata": {},
   "outputs": [],
   "source": [
    "splits = split_documents(documents)"
   ]
  },
  {
   "cell_type": "code",
   "execution_count": 10,
   "id": "988bfba0-a7f3-47e6-b1bb-2c198a1dfe92",
   "metadata": {},
   "outputs": [],
   "source": [
    "from langchain_community.vectorstores import Qdrant\n",
    "from langchain_huggingface import HuggingFaceEmbeddings\n",
    "\n",
    "os.environ[\"HF_HOME\"] = \"/home/fiona/data/hf_cache\"\n",
    "def create_vector_store(splits):\n",
    "    # 使用自定义DeepSeek嵌入\n",
    "   # 使用本地嵌入模型\n",
    "    embeddings = HuggingFaceEmbeddings(\n",
    "        model_name=\"BAAI/bge-m3\",  # DeepSeek 推荐的中文模型\n",
    "        model_kwargs={\"device\": \"cpu\"},\n",
    "        encode_kwargs={\"normalize_embeddings\": True}\n",
    "    )\n",
    "    \n",
    "    # 创建向量库\n",
    "    vectorstore = Qdrant.from_documents(\n",
    "        documents=splits,\n",
    "        embedding=embeddings,\n",
    "        location=\":memory:\",\n",
    "        collection_name=\"flower_knowledge\"\n",
    "    )\n",
    "    return vectorstore\n",
    "\n"
   ]
  },
  {
   "cell_type": "code",
   "execution_count": 11,
   "id": "5bd3d53f-b0e1-4b1f-a0be-701d953a5aff",
   "metadata": {},
   "outputs": [],
   "source": [
    "vectorstore=create_vector_store(splits)"
   ]
  },
  {
   "cell_type": "code",
   "execution_count": 16,
   "id": "6677ef02-318a-440c-932d-7f08edcecb07",
   "metadata": {},
   "outputs": [],
   "source": [
    "##Step 4 & 5: Retrieval + Output - 检索与生成\n",
    "def build_qa_chain(vectorstore):\n",
    "    # 初始化 DeepSeek 模型（假设兼容 OpenAI API）\n",
    "    llm = ChatOpenAI(\n",
    "        openai_api_key=api_key,\n",
    "        openai_api_base=\"https://api.deepseek.com/v1\",\n",
    "        model_name=\"deepseek-chat\",\n",
    "        temperature=0.3\n",
    "    )\n",
    "\n",
    "    # 定义提示模板\n",
    "    prompt = ChatPromptTemplate.from_template(\n",
    "        \"\"\"你是一名“易速鲜花”客服助手，请严格根据以下上下文回答问题：\n",
    "        ---\n",
    "        上下文：{context}\n",
    "        ---\n",
    "        问题：{question}\n",
    "        答案：\"\"\"\n",
    "    )\n",
    "\n",
    "    # 构建检索器\n",
    "    retriever = vectorstore.as_retriever(search_kwargs={\"k\": 3})  # 返回最相关的3个块\n",
    "    # 组合链\n",
    "    return (\n",
    "        {\"context\": retriever, \"question\": RunnablePassthrough()} \n",
    "        | prompt \n",
    "        | llm \n",
    "    )"
   ]
  },
  {
   "cell_type": "code",
   "execution_count": 17,
   "id": "56500815-37ec-4910-be08-4a9008961df5",
   "metadata": {},
   "outputs": [
    {
     "name": "stdout",
     "output_type": "stream",
     "text": [
      "tags=['Qdrant', 'HuggingFaceEmbeddings'] vectorstore=<langchain_community.vectorstores.qdrant.Qdrant object at 0x7f74d493b750> search_kwargs={'k': 3}\n"
     ]
    }
   ],
   "source": [
    "qa_chain = build_qa_chain(vectorstore)"
   ]
  },
  {
   "cell_type": "code",
   "execution_count": 18,
   "id": "7a07f879-a1d1-41b6-90cb-189592d7f8b9",
   "metadata": {},
   "outputs": [
    {
     "name": "stdout",
     "output_type": "stream",
     "text": [
      "回答： 根据您女朋友生日送花的需求，我为您推荐以下三种寓意美好的花束，并附上推荐理由：\n",
      "\n",
      "1. **绣球花（Hydrangea）花束**\n",
      "   - **花语**：真诚、感恩、美好祝愿\n",
      "   - **推荐理由**：绣球花饱满的团簇造型象征圆满幸福，特别适合表达对恋人的真挚情感，蓝色或粉色绣球更能传递浪漫生日祝福。\n",
      "\n",
      "2. **蝴蝶兰（Phalaenopsis）花盒**\n",
      "   - **花语**：高贵、优雅、美丽的感动\n",
      "   - **推荐理由**：兰科花卉自带高级感，花期长达1-2个月，象征永恒的爱意。适合送给气质优雅的女生，搭配珍珠装饰更显珍贵。\n",
      "\n",
      "3. **铃兰（Lily of the Valley）混搭花束**\n",
      "   - **花语**：幸福、纯洁、深挚的爱\n",
      "   - **推荐理由**：铃兰被称为\"幸福归来\"，小巧铃铛状花朵清新脱俗，搭配白色郁金香或粉玫瑰，能完美表达生日祝福与爱意。\n",
      "\n",
      "> 小建议：可以附上手写卡片，结合花语表达心意。例如：\"愿这束铃兰带给你整年的幸福，就像你带给我的每一天\"\n"
     ]
    }
   ],
   "source": [
    "question=\"我女朋友生日快到了，我想送一个一束花，推荐一下，并且给出理由\"\n",
    "response = qa_chain.invoke(question)\n",
    "print(\"回答：\", response.content)"
   ]
  },
  {
   "cell_type": "code",
   "execution_count": null,
   "id": "dfe7817e-0101-4b51-9ecf-59b483e0c089",
   "metadata": {},
   "outputs": [],
   "source": []
  }
 ],
 "metadata": {
  "kernelspec": {
   "display_name": "Python 3 (ipykernel)",
   "language": "python",
   "name": "python3"
  },
  "language_info": {
   "codemirror_mode": {
    "name": "ipython",
    "version": 3
   },
   "file_extension": ".py",
   "mimetype": "text/x-python",
   "name": "python",
   "nbconvert_exporter": "python",
   "pygments_lexer": "ipython3",
   "version": "3.13.5"
  }
 },
 "nbformat": 4,
 "nbformat_minor": 5
}
